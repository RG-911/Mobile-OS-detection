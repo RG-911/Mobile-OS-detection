{
 "cells": [
  {
   "cell_type": "code",
   "execution_count": 336,
   "metadata": {},
   "outputs": [],
   "source": [
    "from bs4 import BeautifulSoup\n",
    "from requests import get\n",
    "import pandas as pd\n",
    "import numpy as np"
   ]
  },
  {
   "cell_type": "code",
   "execution_count": 337,
   "metadata": {
    "scrolled": true
   },
   "outputs": [
    {
     "data": {
      "text/plain": [
       "'\\nprint(len(data_windows))\\nprint(data_windows)\\n'"
      ]
     },
     "execution_count": 337,
     "metadata": {},
     "output_type": "execute_result"
    }
   ],
   "source": [
    "#WINDOWS\n",
    "headers = ({'User-Agent':\n",
    "            'Mozilla/5.0 (Macintosh; Intel Mac OS X 10_11_6) AppleWebKit\\\n",
    "            /537.36 (KHTML, like Gecko) Chrome/56.0.2924.87 Safari/537.36'})\n",
    "data_windows = []\n",
    "pages = [1,2,3]\n",
    "for page in pages:\n",
    "    base_url_windows = \"https://www.rebuy.de/kaufen/handy?f_prop_os=Windows&page=\"+str(page)\n",
    "    response = get(base_url_windows,headers=headers)\n",
    "    html = response.text\n",
    "    soup = BeautifulSoup(html, 'html.parser')\n",
    "    data_windows.append(soup.find_all('div', attrs={'class': \"title my-3\"}))\n",
    "\n",
    "\"\"\"\n",
    "print(len(data_windows))\n",
    "print(data_windows)\n",
    "\"\"\""
   ]
  },
  {
   "cell_type": "code",
   "execution_count": 338,
   "metadata": {},
   "outputs": [],
   "source": [
    "brand_windows = []\n",
    "model_windows = []\n",
    "storage_windows = []\n",
    "colour_windows = []\n",
    "os_windows = []\n",
    "\n",
    "for data in data_windows:\n",
    "    for phone in data:\n",
    "        brand_windows.append(phone.text.split()[0])\n",
    "        os_windows.append(\"Windows\")\n",
    "        g_w = phone.text.find('GB')\n",
    "        lm_windows = phone.text.find('Lumia')\n",
    "        if \"GB\" in phone.text:\n",
    "            storage_windows.append(\"\".join(phone.text[g_w-2:g_w+3].split()[:2]))\n",
    "        cl_windows=phone.text.split()[-1]\n",
    "        if cl_windows == \"weiß\":\n",
    "            colour_windows.append('white')\n",
    "        elif cl_windows == \"grün\":\n",
    "            colour_windows.append('green')\n",
    "        else:\n",
    "            colour_windows.append(cl_windows)\n",
    "        model_windows.append(phone.text[lm_windows:g_w-2])\n",
    "        \n",
    "    \n",
    "#print(brand_windows)\n",
    "#print(os_windows)\n",
    "#print(storage_windows)\n",
    "#print(colour_windows)\n",
    "#print(model_windows)"
   ]
  },
  {
   "cell_type": "code",
   "execution_count": 339,
   "metadata": {
    "scrolled": true
   },
   "outputs": [
    {
     "data": {
      "text/plain": [
       "'\\nprint(len(data_windows))\\nprint(data_windows)\\n'"
      ]
     },
     "execution_count": 339,
     "metadata": {},
     "output_type": "execute_result"
    }
   ],
   "source": [
    "#BLACKBERRY OS\n",
    "headers = ({'User-Agent':\n",
    "            'Mozilla/5.0 (Macintosh; Intel Mac OS X 10_11_6) AppleWebKit\\\n",
    "            /537.36 (KHTML, like Gecko) Chrome/56.0.2924.87 Safari/537.36'})\n",
    "data_blackberry = []\n",
    "base_url_blackberry = \"https://www.rebuy.de/kaufen/handy?f_prop_os=BlackBerry%20OS\"\n",
    "response = get(base_url_blackberry,headers=headers)\n",
    "html = response.text\n",
    "soup = BeautifulSoup(html, 'html.parser')\n",
    "data_blackberry.append(soup.find_all('div', attrs={'class': \"title my-3\"}))\n",
    "\n",
    "\"\"\"\n",
    "print(len(data_windows))\n",
    "print(data_windows)\n",
    "\"\"\""
   ]
  },
  {
   "cell_type": "code",
   "execution_count": 340,
   "metadata": {},
   "outputs": [],
   "source": [
    "brand_blackberry = []\n",
    "model_blackberry = []\n",
    "storage_blackberry = []\n",
    "colour_blackberry = []\n",
    "os_blackberry = []\n",
    "\n",
    "for data_bbos in data_blackberry:\n",
    "    for phone_bb in data_bbos:\n",
    "        brand_blackberry.append(phone_bb.text.split()[0])\n",
    "        os_blackberry.append(\"BBOS\")\n",
    "        \n",
    "        g_blackberry = phone_bb.text.find(\"GB\")\n",
    "        y_blackberry = phone_bb.text.find(\"y\")\n",
    "        m_blackberry = phone_bb.text.find(\"MB\")\n",
    "        \n",
    "        if \"GB\" in phone_bb.text:        \n",
    "            storage_blackberry.append(phone_bb.text[g_blackberry-3:g_blackberry+2])\n",
    "            model_blackberry.append(phone_bb.text[y_blackberry+2:g_blackberry-2].split()[0])\n",
    "            cl = phone_bb.text.split()[-1]\n",
    "            if cl == \"weiß\":\n",
    "                colour_blackberry.append('weiss')\n",
    "            else:\n",
    "                colour_blackberry.append(cl)\n",
    "        if \"MB\" in phone_bb.text:\n",
    "            storage_blackberry.append(phone_bb.text[m_blackberry-3:m_blackberry+2])\n",
    "            model_blackberry.append(phone_bb.text[y_blackberry+2:m_blackberry-3].split()[0])\n",
    "            cl = phone_bb.text.split()[-1]\n",
    "            if cl == \"weiß\":\n",
    "                colour_blackberry.append('weiss')\n",
    "            else:\n",
    "                colour_blackberry.append(cl)\n",
    "\n",
    "        \n",
    "        \n",
    "    \n",
    "#print(brand_blackberry)\n",
    "#print(storage_blackberry)\n",
    "#print(colour_blackberry)\n",
    "#print(model_blackberry)\n",
    "#print(os_blackberry)"
   ]
  },
  {
   "cell_type": "code",
   "execution_count": 341,
   "metadata": {},
   "outputs": [
    {
     "data": {
      "text/plain": [
       "'print(len(data_ios))\\nprint(data_ios)'"
      ]
     },
     "execution_count": 341,
     "metadata": {},
     "output_type": "execute_result"
    }
   ],
   "source": [
    "#IOS\n",
    "headers = ({'User-Agent':\n",
    "            'Mozilla/5.0 (Macintosh; Intel Mac OS X 10_11_6) AppleWebKit\\\n",
    "            /537.36 (KHTML, like Gecko) Chrome/56.0.2924.87 Safari/537.36'})\n",
    "data_ios = []\n",
    "pages = list(range(1,11))\n",
    "for page in pages:\n",
    "    base_url_windows = \"https://www.rebuy.de/kaufen/handy?f_prop_os=iOS&page=\" + str(page)\n",
    "    response = get(base_url_windows,headers=headers)\n",
    "    html = response.text\n",
    "    soup = BeautifulSoup(html, 'html.parser')\n",
    "    data_ios.append(soup.find_all('div', attrs={'class': \"title my-3\"}))\n",
    "\n",
    "\"\"\"print(len(data_ios))\n",
    "print(data_ios)\"\"\"\n"
   ]
  },
  {
   "cell_type": "code",
   "execution_count": 342,
   "metadata": {},
   "outputs": [
    {
     "data": {
      "text/plain": [
       "'print(len(os_ios))         \\nprint(len(brand_ios))\\nprint(len(storage_ios))\\nprint(len(colour_ios))\\nprint(len(model_ios))'"
      ]
     },
     "execution_count": 342,
     "metadata": {},
     "output_type": "execute_result"
    }
   ],
   "source": [
    "brand_ios = []\n",
    "model_ios = []\n",
    "storage_ios = []\n",
    "colour_ios = []\n",
    "os_ios = []\n",
    "\n",
    "for data in data_ios:\n",
    "    for iphone in data:\n",
    "        brand_ios.append(iphone.text.split()[0])\n",
    "        os_ios.append(\"iOS\")\n",
    "        iph = iphone.text.find('iPhone')\n",
    "        \n",
    "        if \"GB\" in iphone.text:\n",
    "            gb_iph = iphone.text.find(\"GB\")\n",
    "            colour_iph = iphone.text[gb_iph+3:]\n",
    "            if \"PRODUCT\" in colour_iph:\n",
    "                colour_ios.append(colour_iph.split()[-1])\n",
    "            else:\n",
    "                colour_ios.append(\" \".join(colour_iph.split()))\n",
    "            \n",
    "            storage_iph = iphone.text[gb_iph-2:gb_iph+2]\n",
    "            if storage_iph == \"28GB\":\n",
    "                storage_ios.append(\"1\"+storage_iph)\n",
    "                model_ios.append(iphone.text[iph:gb_iph-4])\n",
    "        \n",
    "            elif storage_iph == \"56GB\":\n",
    "                storage_ios.append(\"2\"+storage_iph)\n",
    "                model_ios.append(iphone.text[iph:gb_iph-4])\n",
    "        \n",
    "            elif storage_iph == \"12GB\":\n",
    "                storage_ios.append(\"5\"+storage_iph)\n",
    "                model_ios.append(iphone.text[iph:gb_iph-4])\n",
    "        \n",
    "            else:\n",
    "                storage_ios.append(storage_iph)\n",
    "                model_ios.append(iphone.text[iph:gb_iph-3])\n",
    "        \n",
    "        if \"TB\" in iphone.text:\n",
    "            tb_iph = iphone.text.find(\"TB\")\n",
    "            model_ios.append(iphone.text[iph:tb_iph-2])\n",
    "            storage_iph = smg.text[tb_iph-1:tb_iph+2]\n",
    "            storage_ios.append(storage_iph)\n",
    "            colour_iph = iphone.text[tb_iph+1:]\n",
    "            colour_android.append(colour_iph)\n",
    "            \n",
    "\"\"\"print(len(os_ios))         \n",
    "print(len(brand_ios))\n",
    "print(len(storage_ios))\n",
    "print(len(colour_ios))\n",
    "print(len(model_ios))\"\"\""
   ]
  },
  {
   "cell_type": "code",
   "execution_count": 343,
   "metadata": {},
   "outputs": [
    {
     "data": {
      "text/plain": [
       "'#LG\\n    base_url_lg = \"https://www.rebuy.de/kaufen/handy-lg?f_prop_os=Android&page=\"+str(page)\\n    response_lg = get(base_url_lg,headers=headers)\\n    html_lg = response_lg.text\\n    soup_lg = BeautifulSoup(html_lg, \\'html.parser\\')\\n    lg.append(soup_lg.find_all(\\'div\\', attrs={\\'class\\': \"title my-3\"}))\\n    \\n#NOKIA\\n    base_url_nok = \"https://www.rebuy.de/kaufen/handy-nokia?f_prop_os=Android&page=\"+str(page)\\n    response_nok = get(base_url_nok,headers=headers)\\n    html_nok = response_nok.text\\n    soup_nok = BeautifulSoup(html_nok, \\'html.parser\\')\\n    nokia.append(soup_nok.find_all(\\'div\\', attrs={\\'class\\': \"title my-3\"}))\\n#MOTOROLLA\\n    base_url_mot = \"https://www.rebuy.de/kaufen/handy-motorola?page=\"+str(page)+\"&f_prop_os=Android\"\\n    base_url_mot = \"https://www.rebuy.de/kaufen/handy-nokia?f_prop_os=Android&page=\"+str(page)\\n    response_mot = get(base_url_mot,headers=headers)\\n    html_mot = response_mot.text\\n    soup_mot = BeautifulSoup(html_mot, \\'html.parser\\')\\n    motorolla.append(soup_mot.find_all(\\'div\\', attrs={\\'class\\': \"title my-3\"}))'"
      ]
     },
     "execution_count": 343,
     "metadata": {},
     "output_type": "execute_result"
    }
   ],
   "source": [
    "#ANDROID\n",
    "blackberry = []\n",
    "samsung = []\n",
    "sony = []\n",
    "google = []\n",
    "\"\"\"lg = []\n",
    "nokia = []\n",
    "motorolla = []\"\"\"\n",
    "\n",
    "\n",
    "headers = ({'User-Agent':\n",
    "            'Mozilla/5.0 (Macintosh; Intel Mac OS X 10_11_6) AppleWebKit\\\n",
    "            /537.36 (KHTML, like Gecko) Chrome/56.0.2924.87 Safari/537.36'})\n",
    "#BLACKBERRY\n",
    "base_url_bb = \"https://www.rebuy.de/kaufen/handy-blackberry?f_prop_os=Android\"\n",
    "response_bb = get(base_url_bb,headers=headers)\n",
    "html_bb = response_bb.text\n",
    "soup_bb = BeautifulSoup(html_bb, 'html.parser')\n",
    "blackberry.append(soup_bb.find_all('div', attrs={'class': \"title my-3\"}))\n",
    "pages = [1,2,3,4,5]\n",
    "for page in pages:\n",
    "\n",
    "#SAMSUNG\n",
    "    base_url_sam = \"https://www.rebuy.de/kaufen/handy-samsung?f_prop_os=Android&page=\"+str(page)\n",
    "    response_sam = get(base_url_sam,headers=headers)\n",
    "    html_sam = response_sam.text\n",
    "    soup_sam = BeautifulSoup(html_sam, 'html.parser')\n",
    "    samsung.append(soup_sam.find_all('div', attrs={'class': \"title my-3\"}))\n",
    "\n",
    "#GOOGLE\n",
    "    base_url_goog = \"https://www.rebuy.de/kaufen/handy-google?f_prop_os=Android&page=\"+str(page)\n",
    "    response_goog = get(base_url_goog,headers=headers)\n",
    "    html_goog = response_goog.text\n",
    "    soup_goog = BeautifulSoup(html_goog, 'html.parser')\n",
    "    google.append(soup_goog.find_all('div', attrs={'class': \"title my-3\"}))\n",
    "\n",
    "#SONY\n",
    "    base_url_son = \"https://www.rebuy.de/kaufen/handy-sony?f_prop_os=Android&page=\"+str(page)\n",
    "    response_son = get(base_url_son,headers=headers)\n",
    "    html_son = response_son.text\n",
    "    soup_son = BeautifulSoup(html_son, 'html.parser')\n",
    "    sony.append(soup_son.find_all('div', attrs={'class': \"title my-3\"}))\n",
    "\"\"\"#LG\n",
    "    base_url_lg = \"https://www.rebuy.de/kaufen/handy-lg?f_prop_os=Android&page=\"+str(page)\n",
    "    response_lg = get(base_url_lg,headers=headers)\n",
    "    html_lg = response_lg.text\n",
    "    soup_lg = BeautifulSoup(html_lg, 'html.parser')\n",
    "    lg.append(soup_lg.find_all('div', attrs={'class': \"title my-3\"}))\n",
    "    \n",
    "#NOKIA\n",
    "    base_url_nok = \"https://www.rebuy.de/kaufen/handy-nokia?f_prop_os=Android&page=\"+str(page)\n",
    "    response_nok = get(base_url_nok,headers=headers)\n",
    "    html_nok = response_nok.text\n",
    "    soup_nok = BeautifulSoup(html_nok, 'html.parser')\n",
    "    nokia.append(soup_nok.find_all('div', attrs={'class': \"title my-3\"}))\n",
    "#MOTOROLLA\n",
    "    base_url_mot = \"https://www.rebuy.de/kaufen/handy-motorola?page=\"+str(page)+\"&f_prop_os=Android\"\n",
    "    base_url_mot = \"https://www.rebuy.de/kaufen/handy-nokia?f_prop_os=Android&page=\"+str(page)\n",
    "    response_mot = get(base_url_mot,headers=headers)\n",
    "    html_mot = response_mot.text\n",
    "    soup_mot = BeautifulSoup(html_mot, 'html.parser')\n",
    "    motorolla.append(soup_mot.find_all('div', attrs={'class': \"title my-3\"}))\"\"\""
   ]
  },
  {
   "cell_type": "code",
   "execution_count": 344,
   "metadata": {},
   "outputs": [
    {
     "data": {
      "text/plain": [
       "'print(len(os_android))\\nprint(len(brand_android))\\nprint(len(storage_android))\\nprint(len(colour_android))\\nprint(len(model_android))'"
      ]
     },
     "execution_count": 344,
     "metadata": {},
     "output_type": "execute_result"
    }
   ],
   "source": [
    "#BLACKBERRY_ANDROID\n",
    "brand_android = []\n",
    "model_android = []\n",
    "storage_android = []\n",
    "colour_android = []\n",
    "os_android = []\n",
    "\n",
    "for data_bb in blackberry:\n",
    "    for bb in data_bb:\n",
    "        g = bb.text.find(\"G\")\n",
    "        y = bb.text.find(\"y\")\n",
    "        brand_android.append(bb.text.split()[0])\n",
    "        colour_android.append(bb.text.split()[-1])\n",
    "        model_android.append(bb.text[y+2:g-3])\n",
    "        os_android.append(\"Android\")\n",
    "        storage_bb = bb.text[g-2:g+2]\n",
    "        if storage_bb == \"28GB\":\n",
    "            storage_android.append(\"1\"+storage_bb)\n",
    "        else:\n",
    "            storage_android.append(storage_bb)\n",
    "\n",
    "#SAMSUNG\n",
    "for data_smg in samsung:\n",
    "    for smg in data_smg:\n",
    "        #b = smg.text.find(\"B\")\n",
    "        glx = smg.text.find(\"Galaxy\")\n",
    "        brand_android.append(smg.text.split()[0])\n",
    "        os_android.append(\"Android\")\n",
    "        \n",
    "        if \"GB\" in smg.text:\n",
    "            gb = smg.text.find(\"GB\")\n",
    "            #model_android.append(smg.text[glx+7:gb-3])\n",
    "            colour_smg = smg.text[gb+1:]\n",
    "            if len(colour_smg.split()) < 2:\n",
    "                colour_android.append(colour_smg)\n",
    "            else:\n",
    "                colour_android.append(colour_smg.split()[-1])\n",
    "            \n",
    "            storage_smg = smg.text[gb-2:gb+2]\n",
    "            if storage_smg == \"28GB\":\n",
    "                storage_android.append(\"1\"+storage_smg)\n",
    "                model_android.append(smg.text[glx+7:gb-4])\n",
    "        \n",
    "            elif storage_smg == \"56GB\":\n",
    "                storage_android.append(\"2\"+storage_smg)\n",
    "                model_android.append(smg.text[glx+7:gb-4])\n",
    "        \n",
    "            elif storage_smg == \"12GB\":\n",
    "                storage_android.append(\"5\"+storage_smg)\n",
    "                model_android.append(smg.text[glx+7:gb-4])\n",
    "        \n",
    "            else:\n",
    "                storage_android.append(storage_smg)\n",
    "                model_android.append(smg.text[glx+7:gb-3])\n",
    "        \n",
    "        if \"TB\" in smg.text:\n",
    "            tb_smg = smg.text.find(\"TB\")\n",
    "            model_android.append(smg.text[glx+7:tb_smg-2])\n",
    "            storage_smg = smg.text[tb_smg-1:tb_smg+2]\n",
    "            storage_android.append(storage_smg)\n",
    "            colour_smg = smg.text[tb_smg+1:]\n",
    "            if len(colour_smg.split()) < 2:\n",
    "                colour_android.append(colour_smg)\n",
    "            else:\n",
    "                colour_android.append(colour_smg.split()[-1])\n",
    "            \n",
    "  \n",
    "#SONY\n",
    "for data_sn in sony:\n",
    "    for sn in data_sn:\n",
    "        brand_android.append(sn.text.split()[0])\n",
    "        os_android.append(\"Android\")\n",
    "        xpr = sn.text.find(\"Xperia\")\n",
    "        \n",
    "        if \"GB\" in sn.text:\n",
    "            gb_sn = sn.text.find(\"GB\")\n",
    "            colour_sn = sn.text[gb_sn+1:]\n",
    "            if len(colour_sn.split()) < 2:\n",
    "                colour_android.append(colour_sn)\n",
    "            else:\n",
    "                colour_android.append(colour_sn.split()[-1])\n",
    "            \n",
    "            storage_sn = sn.text[gb_sn-2:gb_sn+2]\n",
    "            if storage_sn == \"28GB\":\n",
    "                storage_android.append(\"1\"+storage_sn)\n",
    "                model_android.append(sn.text[xpr:gb_sn-4])\n",
    "        \n",
    "            elif storage_sn == \"56GB\":\n",
    "                storage_android.append(\"2\"+storage_sn)\n",
    "                model_android.append(sn.text[xpr:gb_sn-4])\n",
    "        \n",
    "            elif storage_sn == \"12GB\":\n",
    "                storage_android.append(\"5\"+storage_sn)\n",
    "                model_android.append(sn.text[xpr:gb_sn-4])\n",
    "        \n",
    "            else:\n",
    "                storage_android.append(storage_sn)\n",
    "                model_android.append(sn.text[xpr:gb_sn-3])\n",
    "        \n",
    "        if \"TB\" in sn.text:\n",
    "            tb_sn = sn.text.find(\"TB\")\n",
    "            model_android.append(sn.text[xpr:tb_sn-2])\n",
    "            storage_sn = sn.text[tb_sn-1:tb_sn+2]\n",
    "            storage_android.append(storage_sn)\n",
    "            colour_sn = sn.text[tb_sn+1:]\n",
    "            if len(colour_sn.split()) < 2:\n",
    "                colour_android.append(colour_sn)\n",
    "            else:\n",
    "                colour_android.append(colour_sn.split()[-1])\n",
    "\n",
    "#GOOGLE\n",
    "for data_gg in google:\n",
    "    for gg in data_gg:\n",
    "        brand_android.append(gg.text.split()[0])\n",
    "        os_android.append(\"Android\")\n",
    "        pxl = gg.text.find(\"Pixel\")\n",
    "        \n",
    "        if \"GB\" in gg.text:\n",
    "            gb_gg = gg.text.find(\"GB\")\n",
    "            colour_gg = gg.text[gb_gg+1:]\n",
    "            if len(colour_gg.split()) < 2:\n",
    "                colour_android.append(colour_gg)\n",
    "            else:\n",
    "                colour_android.append(colour_gg.split()[-1])\n",
    "            \n",
    "            storage_gg = gg.text[gb_gg-2:gb_gg+2]\n",
    "            if storage_gg == \"28GB\":\n",
    "                storage_android.append(\"1\"+storage_gg)\n",
    "                model_android.append(gg.text[pxl:gb_gg-4])\n",
    "        \n",
    "            elif storage_gg == \"56GB\":\n",
    "                storage_android.append(\"2\"+storage_gg)\n",
    "                model_android.append(gg.text[pxl:gb_gg-4])\n",
    "        \n",
    "            elif storage_gg == \"12GB\":\n",
    "                storage_android.append(\"5\"+storage_gg)\n",
    "                model_android.append(gg.text[pxl:gb_gg-4])\n",
    "        \n",
    "            else:\n",
    "                storage_android.append(storage_gg)\n",
    "                model_android.append(gg.text[pxl:gb_gg-3])\n",
    "        \n",
    "        if \"TB\" in sn.text:\n",
    "            tb_gg = gg.text.find(\"TB\")\n",
    "            model_android.append(gg.text[pxl:tb_gg-2])\n",
    "            storage_gg = gg.text[tb_gg-1:tb_gg+2]\n",
    "            storage_android.append(storage_gg)\n",
    "            colour_gg = gg.text[tb_gg+1:]\n",
    "            if len(colour_gg.split()) < 2:\n",
    "                colour_android.append(colour_gg)\n",
    "            else:\n",
    "                colour_android.append(colour_gg.split()[-1])\n",
    "\n",
    "\"\"\"print(len(os_android))\n",
    "print(len(brand_android))\n",
    "print(len(storage_android))\n",
    "print(len(colour_android))\n",
    "print(len(model_android))\"\"\""
   ]
  },
  {
   "cell_type": "code",
   "execution_count": 345,
   "metadata": {},
   "outputs": [],
   "source": [
    "brand = brand_android+brand_blackberry+brand_ios+brand_windows\n",
    "model = model_android+model_blackberry+model_ios+model_windows\n",
    "storage = storage_android+storage_blackberry+storage_ios+storage_windows\n",
    "colour = colour_android+colour_blackberry+colour_ios+colour_windows\n",
    "os = os_android+os_blackberry+os_ios+os_windows"
   ]
  },
  {
   "cell_type": "code",
   "execution_count": 346,
   "metadata": {},
   "outputs": [],
   "source": [
    "for i, col in enumerate(colour):\n",
    "    if col == \"grün\":\n",
    "        colour[i] = \"green\"\n",
    "    elif col == \"weiß\":\n",
    "        colour[i] = \"white\"\n",
    "    elif col == 'roségold':\n",
    "        colour[i] = \"rose gold\"\n",
    "    elif col == \"meergrün\":\n",
    "        colour[i] = \"sea green\"\n",
    "    elif col == \"nachtgrün\":\n",
    "        colour[i] = \"night green\"\n",
    "    elif col == \"weiß silber\":\n",
    "        colour[i] = \"white silver\"\n",
    "    else:\n",
    "        pass\n",
    "    \n",
    "    "
   ]
  },
  {
   "cell_type": "code",
   "execution_count": 347,
   "metadata": {},
   "outputs": [
    {
     "data": {
      "text/plain": [
       "'print(len(brand))\\nprint(len(model))\\nprint(len(storage))\\nprint(len(colour))\\nprint(len(os))'"
      ]
     },
     "execution_count": 347,
     "metadata": {},
     "output_type": "execute_result"
    }
   ],
   "source": [
    "\"\"\"print(len(brand))\n",
    "print(len(model))\n",
    "print(len(storage))\n",
    "print(len(colour))\n",
    "print(len(os))\"\"\""
   ]
  },
  {
   "cell_type": "code",
   "execution_count": 348,
   "metadata": {},
   "outputs": [],
   "source": [
    "phone = pd.DataFrame({'Brand': brand[:730], 'Model':model[:730], 'Storage':storage, 'Colour': colour[:730], 'Operating System': os[:730] })"
   ]
  },
  {
   "cell_type": "code",
   "execution_count": 349,
   "metadata": {},
   "outputs": [
    {
     "name": "stdout",
     "output_type": "stream",
     "text": [
      "<class 'pandas.core.frame.DataFrame'>\n",
      "RangeIndex: 730 entries, 0 to 729\n",
      "Data columns (total 5 columns):\n",
      " #   Column            Non-Null Count  Dtype \n",
      "---  ------            --------------  ----- \n",
      " 0   Brand             730 non-null    object\n",
      " 1   Model             730 non-null    object\n",
      " 2   Storage           730 non-null    object\n",
      " 3   Colour            730 non-null    object\n",
      " 4   Operating System  730 non-null    object\n",
      "dtypes: object(5)\n",
      "memory usage: 28.6+ KB\n"
     ]
    }
   ],
   "source": [
    "phone.info()"
   ]
  },
  {
   "cell_type": "code",
   "execution_count": 350,
   "metadata": {},
   "outputs": [],
   "source": [
    "phone.to_csv('smartphones.csv', index=False)"
   ]
  },
  {
   "cell_type": "code",
   "execution_count": null,
   "metadata": {},
   "outputs": [],
   "source": []
  }
 ],
 "metadata": {
  "kernelspec": {
   "display_name": "Python 3",
   "language": "python",
   "name": "python3"
  },
  "language_info": {
   "codemirror_mode": {
    "name": "ipython",
    "version": 3
   },
   "file_extension": ".py",
   "mimetype": "text/x-python",
   "name": "python",
   "nbconvert_exporter": "python",
   "pygments_lexer": "ipython3",
   "version": "3.8.3"
  }
 },
 "nbformat": 4,
 "nbformat_minor": 4
}
